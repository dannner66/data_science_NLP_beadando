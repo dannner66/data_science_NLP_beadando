{
  "nbformat": 4,
  "nbformat_minor": 0,
  "metadata": {
    "colab": {
      "provenance": []
    },
    "kernelspec": {
      "name": "python3",
      "display_name": "Python 3"
    },
    "language_info": {
      "name": "python"
    }
  },
  "cells": [
    {
      "cell_type": "markdown",
      "source": [
        "Telepítsük le a fontos könyvtárakat"
      ],
      "metadata": {
        "id": "KPDJcTr3FIrE"
      }
    },
    {
      "cell_type": "code",
      "execution_count": 6,
      "metadata": {
        "colab": {
          "base_uri": "https://localhost:8080/"
        },
        "id": "c5HKDFseEOn1",
        "outputId": "0a239b82-0124-4624-8b53-51a4d7c7f5d6"
      },
      "outputs": [
        {
          "output_type": "stream",
          "name": "stdout",
          "text": [
            "Requirement already satisfied: newspaper3k in /usr/local/lib/python3.11/dist-packages (0.2.8)\n",
            "Requirement already satisfied: beautifulsoup4>=4.4.1 in /usr/local/lib/python3.11/dist-packages (from newspaper3k) (4.13.4)\n",
            "Requirement already satisfied: Pillow>=3.3.0 in /usr/local/lib/python3.11/dist-packages (from newspaper3k) (11.1.0)\n",
            "Requirement already satisfied: PyYAML>=3.11 in /usr/local/lib/python3.11/dist-packages (from newspaper3k) (6.0.2)\n",
            "Requirement already satisfied: cssselect>=0.9.2 in /usr/local/lib/python3.11/dist-packages (from newspaper3k) (1.3.0)\n",
            "Requirement already satisfied: lxml>=3.6.0 in /usr/local/lib/python3.11/dist-packages (from newspaper3k) (5.3.2)\n",
            "Requirement already satisfied: nltk>=3.2.1 in /usr/local/lib/python3.11/dist-packages (from newspaper3k) (3.9.1)\n",
            "Requirement already satisfied: requests>=2.10.0 in /usr/local/lib/python3.11/dist-packages (from newspaper3k) (2.32.3)\n",
            "Requirement already satisfied: feedparser>=5.2.1 in /usr/local/lib/python3.11/dist-packages (from newspaper3k) (6.0.11)\n",
            "Requirement already satisfied: tldextract>=2.0.1 in /usr/local/lib/python3.11/dist-packages (from newspaper3k) (5.3.0)\n",
            "Requirement already satisfied: feedfinder2>=0.0.4 in /usr/local/lib/python3.11/dist-packages (from newspaper3k) (0.0.4)\n",
            "Requirement already satisfied: jieba3k>=0.35.1 in /usr/local/lib/python3.11/dist-packages (from newspaper3k) (0.35.1)\n",
            "Requirement already satisfied: python-dateutil>=2.5.3 in /usr/local/lib/python3.11/dist-packages (from newspaper3k) (2.8.2)\n",
            "Requirement already satisfied: tinysegmenter==0.3 in /usr/local/lib/python3.11/dist-packages (from newspaper3k) (0.3)\n",
            "Requirement already satisfied: soupsieve>1.2 in /usr/local/lib/python3.11/dist-packages (from beautifulsoup4>=4.4.1->newspaper3k) (2.7)\n",
            "Requirement already satisfied: typing-extensions>=4.0.0 in /usr/local/lib/python3.11/dist-packages (from beautifulsoup4>=4.4.1->newspaper3k) (4.13.2)\n",
            "Requirement already satisfied: six in /usr/local/lib/python3.11/dist-packages (from feedfinder2>=0.0.4->newspaper3k) (1.17.0)\n",
            "Requirement already satisfied: sgmllib3k in /usr/local/lib/python3.11/dist-packages (from feedparser>=5.2.1->newspaper3k) (1.0.0)\n",
            "Requirement already satisfied: click in /usr/local/lib/python3.11/dist-packages (from nltk>=3.2.1->newspaper3k) (8.1.8)\n",
            "Requirement already satisfied: joblib in /usr/local/lib/python3.11/dist-packages (from nltk>=3.2.1->newspaper3k) (1.4.2)\n",
            "Requirement already satisfied: regex>=2021.8.3 in /usr/local/lib/python3.11/dist-packages (from nltk>=3.2.1->newspaper3k) (2024.11.6)\n",
            "Requirement already satisfied: tqdm in /usr/local/lib/python3.11/dist-packages (from nltk>=3.2.1->newspaper3k) (4.67.1)\n",
            "Requirement already satisfied: charset-normalizer<4,>=2 in /usr/local/lib/python3.11/dist-packages (from requests>=2.10.0->newspaper3k) (3.4.1)\n",
            "Requirement already satisfied: idna<4,>=2.5 in /usr/local/lib/python3.11/dist-packages (from requests>=2.10.0->newspaper3k) (3.10)\n",
            "Requirement already satisfied: urllib3<3,>=1.21.1 in /usr/local/lib/python3.11/dist-packages (from requests>=2.10.0->newspaper3k) (2.3.0)\n",
            "Requirement already satisfied: certifi>=2017.4.17 in /usr/local/lib/python3.11/dist-packages (from requests>=2.10.0->newspaper3k) (2025.1.31)\n",
            "Requirement already satisfied: requests-file>=1.4 in /usr/local/lib/python3.11/dist-packages (from tldextract>=2.0.1->newspaper3k) (2.1.0)\n",
            "Requirement already satisfied: filelock>=3.0.8 in /usr/local/lib/python3.11/dist-packages (from tldextract>=2.0.1->newspaper3k) (3.18.0)\n",
            "Requirement already satisfied: lxml_html_clean in /usr/local/lib/python3.11/dist-packages (0.4.2)\n",
            "Requirement already satisfied: lxml in /usr/local/lib/python3.11/dist-packages (from lxml_html_clean) (5.3.2)\n",
            "Requirement already satisfied: datasets in /usr/local/lib/python3.11/dist-packages (3.5.0)\n",
            "Requirement already satisfied: filelock in /usr/local/lib/python3.11/dist-packages (from datasets) (3.18.0)\n",
            "Requirement already satisfied: numpy>=1.17 in /usr/local/lib/python3.11/dist-packages (from datasets) (2.0.2)\n",
            "Requirement already satisfied: pyarrow>=15.0.0 in /usr/local/lib/python3.11/dist-packages (from datasets) (18.1.0)\n",
            "Requirement already satisfied: dill<0.3.9,>=0.3.0 in /usr/local/lib/python3.11/dist-packages (from datasets) (0.3.8)\n",
            "Requirement already satisfied: pandas in /usr/local/lib/python3.11/dist-packages (from datasets) (2.2.2)\n",
            "Requirement already satisfied: requests>=2.32.2 in /usr/local/lib/python3.11/dist-packages (from datasets) (2.32.3)\n",
            "Requirement already satisfied: tqdm>=4.66.3 in /usr/local/lib/python3.11/dist-packages (from datasets) (4.67.1)\n",
            "Requirement already satisfied: xxhash in /usr/local/lib/python3.11/dist-packages (from datasets) (3.5.0)\n",
            "Requirement already satisfied: multiprocess<0.70.17 in /usr/local/lib/python3.11/dist-packages (from datasets) (0.70.16)\n",
            "Requirement already satisfied: fsspec<=2024.12.0,>=2023.1.0 in /usr/local/lib/python3.11/dist-packages (from fsspec[http]<=2024.12.0,>=2023.1.0->datasets) (2024.12.0)\n",
            "Requirement already satisfied: aiohttp in /usr/local/lib/python3.11/dist-packages (from datasets) (3.11.15)\n",
            "Requirement already satisfied: huggingface-hub>=0.24.0 in /usr/local/lib/python3.11/dist-packages (from datasets) (0.30.2)\n",
            "Requirement already satisfied: packaging in /usr/local/lib/python3.11/dist-packages (from datasets) (24.2)\n",
            "Requirement already satisfied: pyyaml>=5.1 in /usr/local/lib/python3.11/dist-packages (from datasets) (6.0.2)\n",
            "Requirement already satisfied: aiohappyeyeballs>=2.3.0 in /usr/local/lib/python3.11/dist-packages (from aiohttp->datasets) (2.6.1)\n",
            "Requirement already satisfied: aiosignal>=1.1.2 in /usr/local/lib/python3.11/dist-packages (from aiohttp->datasets) (1.3.2)\n",
            "Requirement already satisfied: attrs>=17.3.0 in /usr/local/lib/python3.11/dist-packages (from aiohttp->datasets) (25.3.0)\n",
            "Requirement already satisfied: frozenlist>=1.1.1 in /usr/local/lib/python3.11/dist-packages (from aiohttp->datasets) (1.6.0)\n",
            "Requirement already satisfied: multidict<7.0,>=4.5 in /usr/local/lib/python3.11/dist-packages (from aiohttp->datasets) (6.4.3)\n",
            "Requirement already satisfied: propcache>=0.2.0 in /usr/local/lib/python3.11/dist-packages (from aiohttp->datasets) (0.3.1)\n",
            "Requirement already satisfied: yarl<2.0,>=1.17.0 in /usr/local/lib/python3.11/dist-packages (from aiohttp->datasets) (1.20.0)\n",
            "Requirement already satisfied: typing-extensions>=3.7.4.3 in /usr/local/lib/python3.11/dist-packages (from huggingface-hub>=0.24.0->datasets) (4.13.2)\n",
            "Requirement already satisfied: charset-normalizer<4,>=2 in /usr/local/lib/python3.11/dist-packages (from requests>=2.32.2->datasets) (3.4.1)\n",
            "Requirement already satisfied: idna<4,>=2.5 in /usr/local/lib/python3.11/dist-packages (from requests>=2.32.2->datasets) (3.10)\n",
            "Requirement already satisfied: urllib3<3,>=1.21.1 in /usr/local/lib/python3.11/dist-packages (from requests>=2.32.2->datasets) (2.3.0)\n",
            "Requirement already satisfied: certifi>=2017.4.17 in /usr/local/lib/python3.11/dist-packages (from requests>=2.32.2->datasets) (2025.1.31)\n",
            "Requirement already satisfied: python-dateutil>=2.8.2 in /usr/local/lib/python3.11/dist-packages (from pandas->datasets) (2.8.2)\n",
            "Requirement already satisfied: pytz>=2020.1 in /usr/local/lib/python3.11/dist-packages (from pandas->datasets) (2025.2)\n",
            "Requirement already satisfied: tzdata>=2022.7 in /usr/local/lib/python3.11/dist-packages (from pandas->datasets) (2025.2)\n",
            "Requirement already satisfied: six>=1.5 in /usr/local/lib/python3.11/dist-packages (from python-dateutil>=2.8.2->pandas->datasets) (1.17.0)\n"
          ]
        }
      ],
      "source": [
        "!pip install newspaper3k\n",
        "!pip install lxml_html_clean\n",
        "!pip install datasets"
      ]
    },
    {
      "cell_type": "markdown",
      "source": [
        "A letelepített könyvtárakból importáljuk be a szükséges részeket"
      ],
      "metadata": {
        "id": "zTEXcB6WFUxk"
      }
    },
    {
      "cell_type": "code",
      "source": [
        "#======================\n",
        "#Adathalmaz létrehozása\n",
        "#======================\n",
        "\n",
        "from newspaper import Article\n",
        "from bs4 import BeautifulSoup\n",
        "import requests\n",
        "import pandas as pd\n",
        "import time\n",
        "import random\n",
        "from tqdm import tqdm\n",
        "import os\n",
        "import datetime\n",
        "import requests\n",
        "from google.colab import files\n"
      ],
      "metadata": {
        "id": "KTEjXDKLEdg2"
      },
      "execution_count": 7,
      "outputs": []
    },
    {
      "cell_type": "markdown",
      "source": [
        "# Az Origoról két lépésben szedem le a cikkeket:\n",
        "1. Összegyűjtöm dátum alapján a linkeket\n",
        "2. A linkek alapján összegyűjtöm a cikkeket"
      ],
      "metadata": {
        "id": "4AqV_FedFcJs"
      }
    },
    {
      "cell_type": "code",
      "source": [
        "# Importáljuk a datetime modult, amely segít kezelni a dátumokat\n",
        "\n",
        "\n",
        "# Létrehozunk egy üres listát az url-ek tárolására\n",
        "urls = []\n",
        "\n",
        "# Létrehozunk egy datetime objektumot 2023. január 1-jével\n",
        "date = datetime.date(2025, 3, 19)\n",
        "\n",
        "# Létrehozunk egy másik datetime objektumot 2024. január 1-jével\n",
        "end_date = datetime.date(2025, 4, 20)\n",
        "\n",
        "# Végigmegyünk a dátumokon egy napos lépésekkel, amíg el nem érjük a végdátumot\n",
        "while date < end_date:\n",
        "    # Kinyerjük a dátum évét, hónapját és napját\n",
        "    year = date.year\n",
        "    month = date.month\n",
        "    day = date.day\n",
        "    # Összerakjuk az url-t a dátummal\n",
        "    url = f\"https://www.origo.hu/hirarchivum/{year}/{month}/{day}\"\n",
        "    # Hozzáadjuk az url-t a listához\n",
        "    urls.append(url)\n",
        "    # Növeljük a dátumot egy nappal\n",
        "    date += datetime.timedelta(days=1)\n",
        "\n",
        "# Kiírjuk az url-ek listáját\n",
        "print(urls)"
      ],
      "metadata": {
        "colab": {
          "base_uri": "https://localhost:8080/"
        },
        "id": "23HFZa_rEiUw",
        "outputId": "fb888e88-2bf2-4987-c3b2-a20a5987fb43"
      },
      "execution_count": 8,
      "outputs": [
        {
          "output_type": "stream",
          "name": "stdout",
          "text": [
            "['https://www.origo.hu/hirarchivum/2025/3/19', 'https://www.origo.hu/hirarchivum/2025/3/20', 'https://www.origo.hu/hirarchivum/2025/3/21', 'https://www.origo.hu/hirarchivum/2025/3/22', 'https://www.origo.hu/hirarchivum/2025/3/23', 'https://www.origo.hu/hirarchivum/2025/3/24', 'https://www.origo.hu/hirarchivum/2025/3/25', 'https://www.origo.hu/hirarchivum/2025/3/26', 'https://www.origo.hu/hirarchivum/2025/3/27', 'https://www.origo.hu/hirarchivum/2025/3/28', 'https://www.origo.hu/hirarchivum/2025/3/29', 'https://www.origo.hu/hirarchivum/2025/3/30', 'https://www.origo.hu/hirarchivum/2025/3/31', 'https://www.origo.hu/hirarchivum/2025/4/1', 'https://www.origo.hu/hirarchivum/2025/4/2', 'https://www.origo.hu/hirarchivum/2025/4/3', 'https://www.origo.hu/hirarchivum/2025/4/4', 'https://www.origo.hu/hirarchivum/2025/4/5', 'https://www.origo.hu/hirarchivum/2025/4/6', 'https://www.origo.hu/hirarchivum/2025/4/7', 'https://www.origo.hu/hirarchivum/2025/4/8', 'https://www.origo.hu/hirarchivum/2025/4/9', 'https://www.origo.hu/hirarchivum/2025/4/10', 'https://www.origo.hu/hirarchivum/2025/4/11', 'https://www.origo.hu/hirarchivum/2025/4/12', 'https://www.origo.hu/hirarchivum/2025/4/13', 'https://www.origo.hu/hirarchivum/2025/4/14', 'https://www.origo.hu/hirarchivum/2025/4/15', 'https://www.origo.hu/hirarchivum/2025/4/16', 'https://www.origo.hu/hirarchivum/2025/4/17', 'https://www.origo.hu/hirarchivum/2025/4/18', 'https://www.origo.hu/hirarchivum/2025/4/19']\n"
          ]
        }
      ]
    },
    {
      "cell_type": "code",
      "source": [
        "# Egy lista a magyar politikai weboldalakról, amelyekről híreket akarsz kaparni\n",
        "\n",
        "# Egy üres lista a hírek tárolására\n",
        "news = []\n",
        "neutral_news = []\n",
        "\n",
        "\n",
        "# Végigmegyünk a weboldalak listáján\n",
        "for website in urls:\n",
        "\n",
        "    # Lekérjük a weboldal tartalmát\n",
        "    response = requests.get(website)\n",
        "    # Létrehozunk egy BeautifulSoup objektumot a HTML elemzéséhez\n",
        "    soup = BeautifulSoup(response.text, \"html.parser\")\n",
        "    # Megkeressük az összes hírcímet tartalmazó HTML elemet (ez változhat az oldaltól függően)\n",
        "    links = soup.find_all(\"a\", href=True)\n",
        "    # Végigmegyünk a hírcímeken\n",
        "    for link in links:\n",
        "      title = \"Nincs cím\"  # Alapértelmezett cím\n",
        "      title_tag = link.find(class_=\"categorized-article-container-title\")\n",
        "      if title_tag is not None:\n",
        "          title = title_tag.text\n",
        "      href = link[\"href\"]\n",
        "\n",
        "      # Kinyerjük a hírcím szövegét\n",
        "      href = link[\"href\"]\n",
        "      if href.startswith(\"/itthon\"):\n",
        "          # Létrehozunk egy Article objektumot a linkkel\n",
        "          article = Article(f'https://origo.hu'+href)\n",
        "          # Letöltjük és elemezzük a cikk HTML-jét\n",
        "          try:\n",
        "            article.download()\n",
        "            article.parse()\n",
        "\n",
        "          # Kinyerjük a cikk szövegét\n",
        "            text = article.text\n",
        "          # Hozzáadjuk a hírt a listához egy szótár formájában\n",
        "            news.append({\"title\": title, \"link\": f'https://origo.hu'+href, \"text\": text, \"date\": published_date})\n",
        "\n",
        "          except:\n",
        "            print(\"Hiba történt egy cikk letöltése vagy elemzése közben\")\n",
        "      elif href.startswith('/auto/') or href.startswith('/tudomany/') or href.startswith('/sport/'):\n",
        "          # Létrehozunk egy Article objektumot a linkkel\n",
        "          article = Article(f'https://origo.hu'+href)\n",
        "          # Letöltjük és elemezzük a cikk HTML-jét\n",
        "          article.download()\n",
        "          article.parse()\n",
        "          # Kinyerjük a cikk szövegét\n",
        "          text = article.text\n",
        "          # dátum\n",
        "          published_date = article.publish_date\n",
        "          # Hozzáadjuk a hírt a listához egy szótár formájában\n",
        "          neutral_news.append({\"title\": title, \"link\": f'https://origo.hu'+href, \"text\": text, \"date\": published_date})\n",
        "    print(f\"news from {website}: {len(news)}\")\n",
        "\n"
      ],
      "metadata": {
        "colab": {
          "base_uri": "https://localhost:8080/"
        },
        "id": "9ALDy8cvEpZE",
        "outputId": "3cc0a577-d9df-4520-904b-13573423f520"
      },
      "execution_count": 9,
      "outputs": [
        {
          "output_type": "stream",
          "name": "stdout",
          "text": [
            "news from https://www.origo.hu/hirarchivum/2025/3/19: 22\n",
            "news from https://www.origo.hu/hirarchivum/2025/3/20: 49\n",
            "news from https://www.origo.hu/hirarchivum/2025/3/21: 71\n",
            "news from https://www.origo.hu/hirarchivum/2025/3/22: 90\n",
            "news from https://www.origo.hu/hirarchivum/2025/3/23: 110\n",
            "news from https://www.origo.hu/hirarchivum/2025/3/24: 138\n",
            "news from https://www.origo.hu/hirarchivum/2025/3/25: 159\n",
            "news from https://www.origo.hu/hirarchivum/2025/3/26: 183\n",
            "news from https://www.origo.hu/hirarchivum/2025/3/27: 206\n",
            "news from https://www.origo.hu/hirarchivum/2025/3/28: 233\n",
            "news from https://www.origo.hu/hirarchivum/2025/3/29: 254\n",
            "news from https://www.origo.hu/hirarchivum/2025/3/30: 273\n",
            "news from https://www.origo.hu/hirarchivum/2025/3/31: 294\n",
            "news from https://www.origo.hu/hirarchivum/2025/4/1: 316\n",
            "news from https://www.origo.hu/hirarchivum/2025/4/2: 338\n",
            "news from https://www.origo.hu/hirarchivum/2025/4/3: 360\n",
            "news from https://www.origo.hu/hirarchivum/2025/4/4: 391\n",
            "news from https://www.origo.hu/hirarchivum/2025/4/5: 409\n",
            "news from https://www.origo.hu/hirarchivum/2025/4/6: 427\n",
            "news from https://www.origo.hu/hirarchivum/2025/4/7: 455\n",
            "news from https://www.origo.hu/hirarchivum/2025/4/8: 482\n",
            "news from https://www.origo.hu/hirarchivum/2025/4/9: 499\n",
            "news from https://www.origo.hu/hirarchivum/2025/4/10: 526\n",
            "news from https://www.origo.hu/hirarchivum/2025/4/11: 545\n",
            "news from https://www.origo.hu/hirarchivum/2025/4/12: 578\n",
            "news from https://www.origo.hu/hirarchivum/2025/4/13: 599\n",
            "news from https://www.origo.hu/hirarchivum/2025/4/14: 622\n",
            "news from https://www.origo.hu/hirarchivum/2025/4/15: 637\n",
            "news from https://www.origo.hu/hirarchivum/2025/4/16: 651\n",
            "news from https://www.origo.hu/hirarchivum/2025/4/17: 664\n",
            "news from https://www.origo.hu/hirarchivum/2025/4/18: 675\n",
            "news from https://www.origo.hu/hirarchivum/2025/4/19: 679\n"
          ]
        }
      ]
    },
    {
      "cell_type": "markdown",
      "source": [
        "# A telexre más módszert alkalmaztam, de a gondolatmenet megegyezik"
      ],
      "metadata": {
        "id": "FVzryf5jF8ug"
      }
    },
    {
      "cell_type": "code",
      "source": [
        "def scrape_telex_page(url):\n",
        "    \"\"\"Scrape articles from a single Telex archive page.\"\"\"\n",
        "    try:\n",
        "        response = requests.get(url, timeout=10)\n",
        "        response.raise_for_status()\n",
        "    except Exception as e:\n",
        "        print(f\"Failed to fetch {url}: {e}\")\n",
        "        return [], []\n",
        "\n",
        "    soup = BeautifulSoup(response.content, 'html.parser')\n",
        "    articles = soup.find_all('a', class_=\"list__item__title\", href=True)\n",
        "\n",
        "    pro_gov_news = []\n",
        "\n",
        "    for article_tag in articles:\n",
        "        try:\n",
        "            href = article_tag['href']\n",
        "            if not href.startswith('/'):\n",
        "                continue\n",
        "\n",
        "            link = f'https://telex.hu{href}'\n",
        "            title = article_tag.find(class_=\"hasHighlight\").text.strip()\n",
        "\n",
        "            # Download article using newspaper3k\n",
        "            article = Article(link)\n",
        "            article.download()\n",
        "            article.parse()\n",
        "            text = article.text\n",
        "            published_date = article.publish_date\n",
        "            article_data = {\"title\": title, \"link\": link, \"text\": text, \"date\": published_date}\n",
        "\n",
        "            if '/belfold/' in href:\n",
        "                pro_gov_news.append(article_data)\n",
        "\n",
        "            # Random sleep to avoid being blocked\n",
        "            time.sleep(random.uniform(0.5, 1.5))\n",
        "\n",
        "        except Exception as e:\n",
        "            print(f\"Error processing article: {e}\")\n",
        "\n",
        "    return pro_gov_news\n",
        "\n",
        "\n",
        "\n",
        "\n",
        "# Settings\n",
        "start_page = 1\n",
        "end_page = 219  # You can increase this as needed\n",
        "\n",
        "# fájl létrehozása, amibe később rakjuk az összes adatot\n",
        "!mkdir Adathalmaz\n",
        "\n",
        "# Storage\n",
        "all_news = []\n",
        "\n",
        "# Main scraping loop\n",
        "for page in tqdm(range(start_page, end_page + 1)):\n",
        "    url = f\"https://telex.hu/archivum?oldal={page}\"\n",
        "    news_batch = scrape_telex_page(url)\n",
        "    all_news.extend(news_batch)\n",
        "\n",
        "    # Periodically save progress\n",
        "    if page % 10 == 0 or page == end_page:\n",
        "        pd.DataFrame(all_news).to_csv(os.path.join(\"Adathalmaz/telex_news.csv\"), index=False)\n",
        "\n",
        "print(f\"Scraping finished! Total pro-gov: {len(all_news)}\")"
      ],
      "metadata": {
        "colab": {
          "base_uri": "https://localhost:8080/"
        },
        "id": "ySIJZmamEtwa",
        "outputId": "419ae5f2-dd4b-42ff-a41c-df996ed35523"
      },
      "execution_count": 10,
      "outputs": [
        {
          "output_type": "stream",
          "name": "stderr",
          "text": [
            " 19%|█▊        | 41/219 [15:00<1:08:50, 23.21s/it]"
          ]
        },
        {
          "output_type": "stream",
          "name": "stdout",
          "text": [
            "Error processing article: Article `download()` failed with 500 Server Error: Internal Server Error for url: https://telex.hu/sport/2025/04/19/bode-daniel-golt-lott-500-nb-i-es-meccsen on URL https://telex.hu/sport/2025/04/19/bode-daniel-golt-lott-500-nb-i-es-meccsen\n"
          ]
        },
        {
          "output_type": "stream",
          "name": "stderr",
          "text": [
            " 21%|██        | 45/219 [16:31<1:07:00, 23.11s/it]"
          ]
        },
        {
          "output_type": "stream",
          "name": "stdout",
          "text": [
            "Error processing article: Article `download()` failed with 500 Server Error: Internal Server Error for url: https://telex.hu/kult/2025/04/19/horn-gabor-es-horn-gyorgy-alinda-oktatas on URL https://telex.hu/kult/2025/04/19/horn-gabor-es-horn-gyorgy-alinda-oktatas\n"
          ]
        },
        {
          "output_type": "stream",
          "name": "stderr",
          "text": [
            " 24%|██▍       | 53/219 [19:32<1:02:07, 22.46s/it]"
          ]
        },
        {
          "output_type": "stream",
          "name": "stdout",
          "text": [
            "Error processing article: Article `download()` failed with 500 Server Error: Internal Server Error for url: https://telex.hu/belfold/2025/04/17/budapest-ujbuda-foepitesz-hivatali-visszaeles-onkormanyzati-telek-fidesz-lakas-laszlo-imre on URL https://telex.hu/belfold/2025/04/17/budapest-ujbuda-foepitesz-hivatali-visszaeles-onkormanyzati-telek-fidesz-lakas-laszlo-imre\n"
          ]
        },
        {
          "output_type": "stream",
          "name": "stderr",
          "text": [
            " 32%|███▏      | 71/219 [26:22<56:07, 22.75s/it]"
          ]
        },
        {
          "output_type": "stream",
          "name": "stdout",
          "text": [
            "Error processing article: Article `download()` failed with 500 Server Error: Internal Server Error for url: https://telex.hu/belfold/2025/04/15/parlamenti-tuntetes-rendorok-eljaras on URL https://telex.hu/belfold/2025/04/15/parlamenti-tuntetes-rendorok-eljaras\n"
          ]
        },
        {
          "output_type": "stream",
          "name": "stderr",
          "text": [
            "\r 33%|███▎      | 72/219 [26:45<55:55, 22.82s/it]"
          ]
        },
        {
          "output_type": "stream",
          "name": "stdout",
          "text": [
            "Error processing article: Article `download()` failed with 500 Server Error: Internal Server Error for url: https://telex.hu/belfold/2025/04/15/saras-eso-mediterran-ciklon-idojaras-elorejelzes on URL https://telex.hu/belfold/2025/04/15/saras-eso-mediterran-ciklon-idojaras-elorejelzes\n"
          ]
        },
        {
          "output_type": "stream",
          "name": "stderr",
          "text": [
            " 36%|███▌      | 78/219 [29:07<56:44, 24.15s/it]"
          ]
        },
        {
          "output_type": "stream",
          "name": "stdout",
          "text": [
            "Error processing article: Article `download()` failed with 500 Server Error: Internal Server Error for url: https://telex.hu/kulfold/2025/04/14/aleksandar-vucic-gyerek-level-hamisitas-novak-djokovic on URL https://telex.hu/kulfold/2025/04/14/aleksandar-vucic-gyerek-level-hamisitas-novak-djokovic\n"
          ]
        },
        {
          "output_type": "stream",
          "name": "stderr",
          "text": [
            " 37%|███▋      | 81/219 [30:18<55:35, 24.17s/it]"
          ]
        },
        {
          "output_type": "stream",
          "name": "stdout",
          "text": [
            "Error processing article: Article `download()` failed with 500 Server Error: Internal Server Error for url: https://telex.hu/belfold/2025/04/14/husvet-boltok-nyitvatartas on URL https://telex.hu/belfold/2025/04/14/husvet-boltok-nyitvatartas\n"
          ]
        },
        {
          "output_type": "stream",
          "name": "stderr",
          "text": [
            " 38%|███▊      | 84/219 [31:27<52:50, 23.48s/it]"
          ]
        },
        {
          "output_type": "stream",
          "name": "stdout",
          "text": [
            "Error processing article: Article `download()` failed with 500 Server Error: Internal Server Error for url: https://telex.hu/belfold/2025/04/13/norveg-ferfi-terrorcselekmeny-meszarlas-gyanu-pedofil-kepek on URL https://telex.hu/belfold/2025/04/13/norveg-ferfi-terrorcselekmeny-meszarlas-gyanu-pedofil-kepek\n"
          ]
        },
        {
          "output_type": "stream",
          "name": "stderr",
          "text": [
            " 42%|████▏     | 91/219 [34:10<49:50, 23.37s/it]"
          ]
        },
        {
          "output_type": "stream",
          "name": "stdout",
          "text": [
            "Error processing article: Article `download()` failed with 500 Server Error: Internal Server Error for url: https://telex.hu/kulfold/2025/04/12/donald-trump-koltsegvetes-nasa-finanszirozas on URL https://telex.hu/kulfold/2025/04/12/donald-trump-koltsegvetes-nasa-finanszirozas\n",
            "Error processing article: Article `download()` failed with 500 Server Error: Internal Server Error for url: https://telex.hu/kulfold/2025/04/12/bevandorlasi-biro-columbia-egyetem-kitoloncolas-egyesult-allamok on URL https://telex.hu/kulfold/2025/04/12/bevandorlasi-biro-columbia-egyetem-kitoloncolas-egyesult-allamok\n"
          ]
        },
        {
          "output_type": "stream",
          "name": "stderr",
          "text": [
            " 50%|█████     | 110/219 [41:22<41:48, 23.01s/it]"
          ]
        },
        {
          "output_type": "stream",
          "name": "stdout",
          "text": [
            "Error processing article: Article `download()` failed with 500 Server Error: Internal Server Error for url: https://telex.hu/techtud/2025/04/09/microsoft-google-amazon-adatkozpont-szarazsag-viz on URL https://telex.hu/techtud/2025/04/09/microsoft-google-amazon-adatkozpont-szarazsag-viz\n"
          ]
        },
        {
          "output_type": "stream",
          "name": "stderr",
          "text": [
            " 55%|█████▍    | 120/219 [45:13<37:45, 22.89s/it]"
          ]
        },
        {
          "output_type": "stream",
          "name": "stdout",
          "text": [
            "Error processing article: Article `download()` failed with 500 Server Error: Internal Server Error for url: https://telex.hu/belfold/2025/04/08/nagy-istvan-agrarminiszter-szaj-es-koromfajas-telepek-dolgozok-fizetes-operativ-torzs on URL https://telex.hu/belfold/2025/04/08/nagy-istvan-agrarminiszter-szaj-es-koromfajas-telepek-dolgozok-fizetes-operativ-torzs\n"
          ]
        },
        {
          "output_type": "stream",
          "name": "stderr",
          "text": [
            "\r 55%|█████▌    | 121/219 [45:34<36:51, 22.56s/it]"
          ]
        },
        {
          "output_type": "stream",
          "name": "stdout",
          "text": [
            "Error processing article: Article `download()` failed with 500 Server Error: Internal Server Error for url: https://telex.hu/belfold/2025/04/08/tisza-part-inflacio-magyar-peter-reagalas on URL https://telex.hu/belfold/2025/04/08/tisza-part-inflacio-magyar-peter-reagalas\n"
          ]
        },
        {
          "output_type": "stream",
          "name": "stderr",
          "text": [
            " 60%|█████▉    | 131/219 [49:28<34:20, 23.41s/it]"
          ]
        },
        {
          "output_type": "stream",
          "name": "stdout",
          "text": [
            "Error processing article: Article `download()` failed with 500 Server Error: Internal Server Error for url: https://telex.hu/belfold/2025/04/07/iskolaigazgato-intezetvezeto-koznevelesi-igazgatokepzes-engedely-jovahagyas-oktatas-tanarok on URL https://telex.hu/belfold/2025/04/07/iskolaigazgato-intezetvezeto-koznevelesi-igazgatokepzes-engedely-jovahagyas-oktatas-tanarok\n"
          ]
        },
        {
          "output_type": "stream",
          "name": "stderr",
          "text": [
            " 62%|██████▏   | 135/219 [51:04<33:35, 24.00s/it]"
          ]
        },
        {
          "output_type": "stream",
          "name": "stdout",
          "text": [
            "Error processing article: Article `download()` failed with 500 Server Error: Internal Server Error for url: https://telex.hu/sport/2025/04/06/forma-1-japan-nagydij-max-verstappen-lando-norris-oscar-piastri-mclaren on URL https://telex.hu/sport/2025/04/06/forma-1-japan-nagydij-max-verstappen-lando-norris-oscar-piastri-mclaren\n"
          ]
        },
        {
          "output_type": "stream",
          "name": "stderr",
          "text": [
            "\r 62%|██████▏   | 136/219 [51:26<32:15, 23.32s/it]"
          ]
        },
        {
          "output_type": "stream",
          "name": "stdout",
          "text": [
            "Error processing article: Article `download()` failed with 500 Server Error: Internal Server Error for url: https://telex.hu/kulfold/2025/04/06/trump-ellenes-tuntetes-amerika-el-a-kezekkel-szazezrek-elon-musk-washington on URL https://telex.hu/kulfold/2025/04/06/trump-ellenes-tuntetes-amerika-el-a-kezekkel-szazezrek-elon-musk-washington\n"
          ]
        },
        {
          "output_type": "stream",
          "name": "stderr",
          "text": [
            " 76%|███████▌  | 166/219 [1:03:08<20:22, 23.07s/it]"
          ]
        },
        {
          "output_type": "stream",
          "name": "stdout",
          "text": [
            "Error processing article: Article `download()` failed with 500 Server Error: Internal Server Error for url: https://telex.hu/kulfold/2025/04/01/robert-f-kennedy-usa-egeszsegugy-leepites-egyesult-allamok-miniszterium on URL https://telex.hu/kulfold/2025/04/01/robert-f-kennedy-usa-egeszsegugy-leepites-egyesult-allamok-miniszterium\n"
          ]
        },
        {
          "output_type": "stream",
          "name": "stderr",
          "text": [
            "\r 76%|███████▋  | 167/219 [1:03:33<20:21, 23.50s/it]"
          ]
        },
        {
          "output_type": "stream",
          "name": "stdout",
          "text": [
            "Error processing article: Article `download()` failed with 500 Server Error: Internal Server Error for url: https://telex.hu/techtud/2025/04/01/szkarabeusz-izrael-asatas-regeszet-tortenelem-biblia on URL https://telex.hu/techtud/2025/04/01/szkarabeusz-izrael-asatas-regeszet-tortenelem-biblia\n"
          ]
        },
        {
          "output_type": "stream",
          "name": "stderr",
          "text": [
            " 83%|████████▎ | 182/219 [1:09:27<14:30, 23.53s/it]"
          ]
        },
        {
          "output_type": "stream",
          "name": "stdout",
          "text": [
            "Error processing article: Article `download()` failed with 500 Server Error: Internal Server Error for url: https://telex.hu/zacc/2025/03/30/nemeth-szilard-europai-rezsikorut-erdely on URL https://telex.hu/zacc/2025/03/30/nemeth-szilard-europai-rezsikorut-erdely\n"
          ]
        },
        {
          "output_type": "stream",
          "name": "stderr",
          "text": [
            "\r 84%|████████▎ | 183/219 [1:09:51<14:08, 23.58s/it]"
          ]
        },
        {
          "output_type": "stream",
          "name": "stdout",
          "text": [
            "Error processing article: Article `download()` failed with 500 Server Error: Internal Server Error for url: https://telex.hu/belfold/2025/03/30/szijjarto-ukrajna-oroszorszag-eu on URL https://telex.hu/belfold/2025/03/30/szijjarto-ukrajna-oroszorszag-eu\n"
          ]
        },
        {
          "output_type": "stream",
          "name": "stderr",
          "text": [
            " 87%|████████▋ | 191/219 [1:13:06<11:23, 24.42s/it]"
          ]
        },
        {
          "output_type": "stream",
          "name": "stdout",
          "text": [
            "Error processing article: Article `download()` failed with 500 Server Error: Internal Server Error for url: https://telex.hu/kult/2025/03/29/heti-klassz-grafitemberrel-eszterhazy-hetvege-es-pannonhalmi-revulet on URL https://telex.hu/kult/2025/03/29/heti-klassz-grafitemberrel-eszterhazy-hetvege-es-pannonhalmi-revulet\n"
          ]
        },
        {
          "output_type": "stream",
          "name": "stderr",
          "text": [
            " 90%|█████████ | 198/219 [1:15:47<08:17, 23.67s/it]"
          ]
        },
        {
          "output_type": "stream",
          "name": "stdout",
          "text": [
            "Error processing article: Article `download()` failed with 500 Server Error: Internal Server Error for url: https://telex.hu/belfold/2025/03/28/vilaghaborus-bombak-liszt-ferenc-repuloter on URL https://telex.hu/belfold/2025/03/28/vilaghaborus-bombak-liszt-ferenc-repuloter\n"
          ]
        },
        {
          "output_type": "stream",
          "name": "stderr",
          "text": [
            "\r 91%|█████████ | 199/219 [1:16:08<07:36, 22.82s/it]"
          ]
        },
        {
          "output_type": "stream",
          "name": "stdout",
          "text": [
            "Error processing article: Article `download()` failed with 500 Server Error: Internal Server Error for url: https://telex.hu/after/2025/03/27/kozel-masfel-milliard-dollarral-szallt-be-a-kinai-tencent-az-ubisoftba on URL https://telex.hu/after/2025/03/27/kozel-masfel-milliard-dollarral-szallt-be-a-kinai-tencent-az-ubisoftba\n"
          ]
        },
        {
          "output_type": "stream",
          "name": "stderr",
          "text": [
            " 93%|█████████▎| 203/219 [1:17:43<06:14, 23.39s/it]"
          ]
        },
        {
          "output_type": "stream",
          "name": "stdout",
          "text": [
            "Error processing article: Article `download()` failed with 500 Server Error: Internal Server Error for url: https://telex.hu/gazdasag/2025/03/27/eu-kotelezettsegszegesi-eljarasok-marcius-fuvarozas-aram on URL https://telex.hu/gazdasag/2025/03/27/eu-kotelezettsegszegesi-eljarasok-marcius-fuvarozas-aram\n",
            "Error processing article: Article `download()` failed with 500 Server Error: Internal Server Error for url: https://telex.hu/belfold/2025/03/27/ukran-menekult-magyarorszag-integracio on URL https://telex.hu/belfold/2025/03/27/ukran-menekult-magyarorszag-integracio\n"
          ]
        },
        {
          "output_type": "stream",
          "name": "stderr",
          "text": [
            " 94%|█████████▍| 206/219 [1:18:54<05:09, 23.79s/it]"
          ]
        },
        {
          "output_type": "stream",
          "name": "stdout",
          "text": [
            "Error processing article: Article `download()` failed with 500 Server Error: Internal Server Error for url: https://telex.hu/after/2025/03/27/szerb-egyetemistak-filmet-forgattak-arrol-hogyan-felemliti-meg-a-hatalom-az-embereket on URL https://telex.hu/after/2025/03/27/szerb-egyetemistak-filmet-forgattak-arrol-hogyan-felemliti-meg-a-hatalom-az-embereket\n"
          ]
        },
        {
          "output_type": "stream",
          "name": "stderr",
          "text": [
            " 95%|█████████▍| 208/219 [1:19:44<04:28, 24.38s/it]"
          ]
        },
        {
          "output_type": "stream",
          "name": "stdout",
          "text": [
            "Error processing article: Article `download()` failed with 500 Server Error: Internal Server Error for url: https://telex.hu/belfold/2025/03/26/orban-viktor-gyuloletbeszed-ugyeszseg-elutasitas on URL https://telex.hu/belfold/2025/03/26/orban-viktor-gyuloletbeszed-ugyeszseg-elutasitas\n"
          ]
        },
        {
          "output_type": "stream",
          "name": "stderr",
          "text": [
            " 96%|█████████▌| 210/219 [1:20:33<03:40, 24.53s/it]"
          ]
        },
        {
          "output_type": "stream",
          "name": "stdout",
          "text": [
            "Error processing article: Article `download()` failed with 500 Server Error: Internal Server Error for url: https://telex.hu/gazdasag/2025/03/26/orban-viktor-kormanyules-falu-tamogatas-atm on URL https://telex.hu/gazdasag/2025/03/26/orban-viktor-kormanyules-falu-tamogatas-atm\n"
          ]
        },
        {
          "output_type": "stream",
          "name": "stderr",
          "text": [
            "100%|██████████| 219/219 [1:24:04<00:00, 23.03s/it]"
          ]
        },
        {
          "output_type": "stream",
          "name": "stdout",
          "text": [
            "Scraping finished! Total pro-gov: 675\n"
          ]
        },
        {
          "output_type": "stream",
          "name": "stderr",
          "text": [
            "\n"
          ]
        }
      ]
    },
    {
      "cell_type": "markdown",
      "source": [
        "# Teljes adatbázis létrehozása"
      ],
      "metadata": {
        "id": "Ja59xCfXGavk"
      }
    },
    {
      "cell_type": "markdown",
      "source": [
        "Összeszedtem 3 különböző DataFramebe a cikkeket, hogy könnyebb legyen a cimkézés"
      ],
      "metadata": {
        "id": "ppU2oSnhGJuG"
      }
    },
    {
      "cell_type": "code",
      "source": [
        "origo_df = pd.DataFrame(news)\n",
        "neutral_df = pd.DataFrame(neutral_news)\n",
        "telex_df = pd.DataFrame(all_news)\n",
        "\n",
        "origo_df.to_csv(\"Adathalmaz/origo_news.csv\", index=False)\n",
        "neutral_df.to_csv(\"Adathalmaz/neutral_news.csv\", index=False)\n",
        "telex_df.to_csv(\"Adathalmaz/telex_news.csv\", index=False)\n",
        "\n",
        "\n",
        "print(\"neutral:\",len(neutral_news))\n",
        "print(\"origo:\",len(news))\n",
        "print(\"telex:\",len(all_news))"
      ],
      "metadata": {
        "colab": {
          "base_uri": "https://localhost:8080/"
        },
        "id": "4KVazZ5KEwr9",
        "outputId": "f6e5673a-643d-4e90-c616-f37a7d4ce9d7"
      },
      "execution_count": 26,
      "outputs": [
        {
          "output_type": "stream",
          "name": "stdout",
          "text": [
            "neutral: 934\n",
            "origo: 679\n",
            "telex: 675\n"
          ]
        }
      ]
    },
    {
      "cell_type": "markdown",
      "source": [
        "Címkézem és egyesítem az adatokat"
      ],
      "metadata": {
        "id": "JVtr4Z6IE1Gi"
      }
    },
    {
      "cell_type": "code",
      "source": [
        "\n",
        "# Add labels\n",
        "telex_df['label'] = 'telex'\n",
        "neutral_df['label'] = 'neutral'\n",
        "origo_df['label'] = 'origo'\n",
        "\n",
        "# Concatenate the dataframes\n",
        "combined_df = pd.concat([neutral_df, telex_df,origo_df], ignore_index=True)\n",
        "combined_df.to_csv(\"Adathalmaz/combined.csv\", index=False)\n",
        "\n",
        "# Now combined_df contains both dataframes with their respective labels\n",
        "combined_df.head()"
      ],
      "metadata": {
        "colab": {
          "base_uri": "https://localhost:8080/",
          "height": 206
        },
        "id": "hzuX3H6jE1f6",
        "outputId": "d460fbaa-aefa-4f51-e9c2-753b81661257"
      },
      "execution_count": 27,
      "outputs": [
        {
          "output_type": "execute_result",
          "data": {
            "text/plain": [
              "       title                                        link  \\\n",
              "0  Nincs cím   https://origo.hu/sport/rovat/sport-csapat   \n",
              "1  Nincs cím   https://origo.hu/sport/rovat/sport-egyeni   \n",
              "2  Nincs cím  https://origo.hu/sport/rovat/sport-futball   \n",
              "3  Nincs cím             https://origo.hu/sport/rovat/f1   \n",
              "4  Nincs cím     https://origo.hu/sport/rovat/sport-laza   \n",
              "\n",
              "                                                text  date    label  \n",
              "0  A Fradi 14 év után már biztosan érmes kézilabd...  None  neutral  \n",
              "1  Hatodik olimpiájára készül a legendás magyar s...  None  neutral  \n",
              "2  Döbbenetes az a hiszti, amit a Real Madrid műv...  None  neutral  \n",
              "3  Molnár Martin a bajnoki címért száll harcba a ...  None  neutral  \n",
              "4  Szuperdögös barna bombázóért készül elhagyni f...  None  neutral  "
            ],
            "text/html": [
              "\n",
              "  <div id=\"df-d89099d6-f7f4-4661-a116-8ab88cd60b9a\" class=\"colab-df-container\">\n",
              "    <div>\n",
              "<style scoped>\n",
              "    .dataframe tbody tr th:only-of-type {\n",
              "        vertical-align: middle;\n",
              "    }\n",
              "\n",
              "    .dataframe tbody tr th {\n",
              "        vertical-align: top;\n",
              "    }\n",
              "\n",
              "    .dataframe thead th {\n",
              "        text-align: right;\n",
              "    }\n",
              "</style>\n",
              "<table border=\"1\" class=\"dataframe\">\n",
              "  <thead>\n",
              "    <tr style=\"text-align: right;\">\n",
              "      <th></th>\n",
              "      <th>title</th>\n",
              "      <th>link</th>\n",
              "      <th>text</th>\n",
              "      <th>date</th>\n",
              "      <th>label</th>\n",
              "    </tr>\n",
              "  </thead>\n",
              "  <tbody>\n",
              "    <tr>\n",
              "      <th>0</th>\n",
              "      <td>Nincs cím</td>\n",
              "      <td>https://origo.hu/sport/rovat/sport-csapat</td>\n",
              "      <td>A Fradi 14 év után már biztosan érmes kézilabd...</td>\n",
              "      <td>None</td>\n",
              "      <td>neutral</td>\n",
              "    </tr>\n",
              "    <tr>\n",
              "      <th>1</th>\n",
              "      <td>Nincs cím</td>\n",
              "      <td>https://origo.hu/sport/rovat/sport-egyeni</td>\n",
              "      <td>Hatodik olimpiájára készül a legendás magyar s...</td>\n",
              "      <td>None</td>\n",
              "      <td>neutral</td>\n",
              "    </tr>\n",
              "    <tr>\n",
              "      <th>2</th>\n",
              "      <td>Nincs cím</td>\n",
              "      <td>https://origo.hu/sport/rovat/sport-futball</td>\n",
              "      <td>Döbbenetes az a hiszti, amit a Real Madrid műv...</td>\n",
              "      <td>None</td>\n",
              "      <td>neutral</td>\n",
              "    </tr>\n",
              "    <tr>\n",
              "      <th>3</th>\n",
              "      <td>Nincs cím</td>\n",
              "      <td>https://origo.hu/sport/rovat/f1</td>\n",
              "      <td>Molnár Martin a bajnoki címért száll harcba a ...</td>\n",
              "      <td>None</td>\n",
              "      <td>neutral</td>\n",
              "    </tr>\n",
              "    <tr>\n",
              "      <th>4</th>\n",
              "      <td>Nincs cím</td>\n",
              "      <td>https://origo.hu/sport/rovat/sport-laza</td>\n",
              "      <td>Szuperdögös barna bombázóért készül elhagyni f...</td>\n",
              "      <td>None</td>\n",
              "      <td>neutral</td>\n",
              "    </tr>\n",
              "  </tbody>\n",
              "</table>\n",
              "</div>\n",
              "    <div class=\"colab-df-buttons\">\n",
              "\n",
              "  <div class=\"colab-df-container\">\n",
              "    <button class=\"colab-df-convert\" onclick=\"convertToInteractive('df-d89099d6-f7f4-4661-a116-8ab88cd60b9a')\"\n",
              "            title=\"Convert this dataframe to an interactive table.\"\n",
              "            style=\"display:none;\">\n",
              "\n",
              "  <svg xmlns=\"http://www.w3.org/2000/svg\" height=\"24px\" viewBox=\"0 -960 960 960\">\n",
              "    <path d=\"M120-120v-720h720v720H120Zm60-500h600v-160H180v160Zm220 220h160v-160H400v160Zm0 220h160v-160H400v160ZM180-400h160v-160H180v160Zm440 0h160v-160H620v160ZM180-180h160v-160H180v160Zm440 0h160v-160H620v160Z\"/>\n",
              "  </svg>\n",
              "    </button>\n",
              "\n",
              "  <style>\n",
              "    .colab-df-container {\n",
              "      display:flex;\n",
              "      gap: 12px;\n",
              "    }\n",
              "\n",
              "    .colab-df-convert {\n",
              "      background-color: #E8F0FE;\n",
              "      border: none;\n",
              "      border-radius: 50%;\n",
              "      cursor: pointer;\n",
              "      display: none;\n",
              "      fill: #1967D2;\n",
              "      height: 32px;\n",
              "      padding: 0 0 0 0;\n",
              "      width: 32px;\n",
              "    }\n",
              "\n",
              "    .colab-df-convert:hover {\n",
              "      background-color: #E2EBFA;\n",
              "      box-shadow: 0px 1px 2px rgba(60, 64, 67, 0.3), 0px 1px 3px 1px rgba(60, 64, 67, 0.15);\n",
              "      fill: #174EA6;\n",
              "    }\n",
              "\n",
              "    .colab-df-buttons div {\n",
              "      margin-bottom: 4px;\n",
              "    }\n",
              "\n",
              "    [theme=dark] .colab-df-convert {\n",
              "      background-color: #3B4455;\n",
              "      fill: #D2E3FC;\n",
              "    }\n",
              "\n",
              "    [theme=dark] .colab-df-convert:hover {\n",
              "      background-color: #434B5C;\n",
              "      box-shadow: 0px 1px 3px 1px rgba(0, 0, 0, 0.15);\n",
              "      filter: drop-shadow(0px 1px 2px rgba(0, 0, 0, 0.3));\n",
              "      fill: #FFFFFF;\n",
              "    }\n",
              "  </style>\n",
              "\n",
              "    <script>\n",
              "      const buttonEl =\n",
              "        document.querySelector('#df-d89099d6-f7f4-4661-a116-8ab88cd60b9a button.colab-df-convert');\n",
              "      buttonEl.style.display =\n",
              "        google.colab.kernel.accessAllowed ? 'block' : 'none';\n",
              "\n",
              "      async function convertToInteractive(key) {\n",
              "        const element = document.querySelector('#df-d89099d6-f7f4-4661-a116-8ab88cd60b9a');\n",
              "        const dataTable =\n",
              "          await google.colab.kernel.invokeFunction('convertToInteractive',\n",
              "                                                    [key], {});\n",
              "        if (!dataTable) return;\n",
              "\n",
              "        const docLinkHtml = 'Like what you see? Visit the ' +\n",
              "          '<a target=\"_blank\" href=https://colab.research.google.com/notebooks/data_table.ipynb>data table notebook</a>'\n",
              "          + ' to learn more about interactive tables.';\n",
              "        element.innerHTML = '';\n",
              "        dataTable['output_type'] = 'display_data';\n",
              "        await google.colab.output.renderOutput(dataTable, element);\n",
              "        const docLink = document.createElement('div');\n",
              "        docLink.innerHTML = docLinkHtml;\n",
              "        element.appendChild(docLink);\n",
              "      }\n",
              "    </script>\n",
              "  </div>\n",
              "\n",
              "\n",
              "    <div id=\"df-16809bfb-90e0-423f-b5ac-5ffc2393fade\">\n",
              "      <button class=\"colab-df-quickchart\" onclick=\"quickchart('df-16809bfb-90e0-423f-b5ac-5ffc2393fade')\"\n",
              "                title=\"Suggest charts\"\n",
              "                style=\"display:none;\">\n",
              "\n",
              "<svg xmlns=\"http://www.w3.org/2000/svg\" height=\"24px\"viewBox=\"0 0 24 24\"\n",
              "     width=\"24px\">\n",
              "    <g>\n",
              "        <path d=\"M19 3H5c-1.1 0-2 .9-2 2v14c0 1.1.9 2 2 2h14c1.1 0 2-.9 2-2V5c0-1.1-.9-2-2-2zM9 17H7v-7h2v7zm4 0h-2V7h2v10zm4 0h-2v-4h2v4z\"/>\n",
              "    </g>\n",
              "</svg>\n",
              "      </button>\n",
              "\n",
              "<style>\n",
              "  .colab-df-quickchart {\n",
              "      --bg-color: #E8F0FE;\n",
              "      --fill-color: #1967D2;\n",
              "      --hover-bg-color: #E2EBFA;\n",
              "      --hover-fill-color: #174EA6;\n",
              "      --disabled-fill-color: #AAA;\n",
              "      --disabled-bg-color: #DDD;\n",
              "  }\n",
              "\n",
              "  [theme=dark] .colab-df-quickchart {\n",
              "      --bg-color: #3B4455;\n",
              "      --fill-color: #D2E3FC;\n",
              "      --hover-bg-color: #434B5C;\n",
              "      --hover-fill-color: #FFFFFF;\n",
              "      --disabled-bg-color: #3B4455;\n",
              "      --disabled-fill-color: #666;\n",
              "  }\n",
              "\n",
              "  .colab-df-quickchart {\n",
              "    background-color: var(--bg-color);\n",
              "    border: none;\n",
              "    border-radius: 50%;\n",
              "    cursor: pointer;\n",
              "    display: none;\n",
              "    fill: var(--fill-color);\n",
              "    height: 32px;\n",
              "    padding: 0;\n",
              "    width: 32px;\n",
              "  }\n",
              "\n",
              "  .colab-df-quickchart:hover {\n",
              "    background-color: var(--hover-bg-color);\n",
              "    box-shadow: 0 1px 2px rgba(60, 64, 67, 0.3), 0 1px 3px 1px rgba(60, 64, 67, 0.15);\n",
              "    fill: var(--button-hover-fill-color);\n",
              "  }\n",
              "\n",
              "  .colab-df-quickchart-complete:disabled,\n",
              "  .colab-df-quickchart-complete:disabled:hover {\n",
              "    background-color: var(--disabled-bg-color);\n",
              "    fill: var(--disabled-fill-color);\n",
              "    box-shadow: none;\n",
              "  }\n",
              "\n",
              "  .colab-df-spinner {\n",
              "    border: 2px solid var(--fill-color);\n",
              "    border-color: transparent;\n",
              "    border-bottom-color: var(--fill-color);\n",
              "    animation:\n",
              "      spin 1s steps(1) infinite;\n",
              "  }\n",
              "\n",
              "  @keyframes spin {\n",
              "    0% {\n",
              "      border-color: transparent;\n",
              "      border-bottom-color: var(--fill-color);\n",
              "      border-left-color: var(--fill-color);\n",
              "    }\n",
              "    20% {\n",
              "      border-color: transparent;\n",
              "      border-left-color: var(--fill-color);\n",
              "      border-top-color: var(--fill-color);\n",
              "    }\n",
              "    30% {\n",
              "      border-color: transparent;\n",
              "      border-left-color: var(--fill-color);\n",
              "      border-top-color: var(--fill-color);\n",
              "      border-right-color: var(--fill-color);\n",
              "    }\n",
              "    40% {\n",
              "      border-color: transparent;\n",
              "      border-right-color: var(--fill-color);\n",
              "      border-top-color: var(--fill-color);\n",
              "    }\n",
              "    60% {\n",
              "      border-color: transparent;\n",
              "      border-right-color: var(--fill-color);\n",
              "    }\n",
              "    80% {\n",
              "      border-color: transparent;\n",
              "      border-right-color: var(--fill-color);\n",
              "      border-bottom-color: var(--fill-color);\n",
              "    }\n",
              "    90% {\n",
              "      border-color: transparent;\n",
              "      border-bottom-color: var(--fill-color);\n",
              "    }\n",
              "  }\n",
              "</style>\n",
              "\n",
              "      <script>\n",
              "        async function quickchart(key) {\n",
              "          const quickchartButtonEl =\n",
              "            document.querySelector('#' + key + ' button');\n",
              "          quickchartButtonEl.disabled = true;  // To prevent multiple clicks.\n",
              "          quickchartButtonEl.classList.add('colab-df-spinner');\n",
              "          try {\n",
              "            const charts = await google.colab.kernel.invokeFunction(\n",
              "                'suggestCharts', [key], {});\n",
              "          } catch (error) {\n",
              "            console.error('Error during call to suggestCharts:', error);\n",
              "          }\n",
              "          quickchartButtonEl.classList.remove('colab-df-spinner');\n",
              "          quickchartButtonEl.classList.add('colab-df-quickchart-complete');\n",
              "        }\n",
              "        (() => {\n",
              "          let quickchartButtonEl =\n",
              "            document.querySelector('#df-16809bfb-90e0-423f-b5ac-5ffc2393fade button');\n",
              "          quickchartButtonEl.style.display =\n",
              "            google.colab.kernel.accessAllowed ? 'block' : 'none';\n",
              "        })();\n",
              "      </script>\n",
              "    </div>\n",
              "\n",
              "    </div>\n",
              "  </div>\n"
            ],
            "application/vnd.google.colaboratory.intrinsic+json": {
              "type": "dataframe",
              "variable_name": "combined_df",
              "summary": "{\n  \"name\": \"combined_df\",\n  \"rows\": 2288,\n  \"fields\": [\n    {\n      \"column\": \"title\",\n      \"properties\": {\n        \"dtype\": \"string\",\n        \"num_unique_values\": 2128,\n        \"samples\": [\n          \"Elk\\u00e9peszt\\u0151 sz\\u00edn\\u00e9szked\\u00e9ssel pr\\u00f3b\\u00e1lkozott a Fradi brazil csat\\u00e1ra \\u2013 vide\\u00f3\",\n          \"P\\u00e1ly\\u00e1zik a vid\\u00e9k \\u2013 nem csak a kocsm\\u00e1k \\u00e9s a kisboltok juthatnak p\\u00e1ly\\u00e1zati lehet\\u0151s\\u00e9ghez\",\n          \"\\u00c9lete v\\u00e9g\\u00e9ig a b\\u00f6rt\\u00f6nben \\u00fclhet a koronc\\u00f3i gyilkos, aki hal\\u00e1lra k\\u00e9selte apj\\u00e1t\"\n        ],\n        \"semantic_type\": \"\",\n        \"description\": \"\"\n      }\n    },\n    {\n      \"column\": \"link\",\n      \"properties\": {\n        \"dtype\": \"string\",\n        \"num_unique_values\": 2134,\n        \"samples\": [\n          \"https://origo.hu/sport/sport-futball/2025/03/low-zsolt-leipzig-kinevezes-nyilatkozat\",\n          \"https://origo.hu/itthon/2025/04/zsigmond-barna-pal-magyarorszag-nem-ker-exportalt-demokraciat\",\n          \"https://origo.hu/itthon/2025/03/idojaras-jovo-het-3\"\n        ],\n        \"semantic_type\": \"\",\n        \"description\": \"\"\n      }\n    },\n    {\n      \"column\": \"text\",\n      \"properties\": {\n        \"dtype\": \"string\",\n        \"num_unique_values\": 2114,\n        \"samples\": [\n          \"V\\u00e9gig vezetve, a m\\u00e1sodik j\\u00e1t\\u00e9kr\\u00e9sz k\\u00f6zep\\u00e9re m\\u00e1r t\\u00edzg\\u00f3los el\\u0151nyt ki\\u00e9p\\u00edtve nyert nagyar\\u00e1ny\\u00fa k\\u00fcl\\u00f6nbs\\u00e9ggel a Tatab\\u00e1nya ellen a Veszpr\\u00e9m a f\\u00e9rfi Magyar Kupa n\\u00e9gyes d\\u00f6nt\\u0151j\\u00e9nek els\\u0151 el\\u0151d\\u00f6nt\\u0151j\\u00e9n.\\n\\nK\\u00f6nnyed\\u00e9n nyert a Veszpr\\u00e9m a Tatab\\u00e1nya ellen\\n\\nFot\\u00f3: Mediaworks/Flajsz P\\u00e9ter Gerg\\u0151\\n\\nA Veszpr\\u00e9m jutott a d\\u00f6nt\\u0151be az MK-ban\\n\\nA Veszpr\\u00e9m keret\\u00e9b\\u0151l Mike Ulrich Jensen \\u00e9s Jehia el-Dera, a Tatab\\u00e1nya j\\u00e1t\\u00e9kosai k\\u00f6z\\u00fcl Patrick Lemos hi\\u00e1nyzott.\\n\\nA c\\u00edmv\\u00e9d\\u0151 a tizedik percben n\\u00e9mi meglepet\\u00e9sre m\\u00e1r hat g\\u00f3llal vezetett - majd h\\u00e9t is volt k\\u00f6zte -, mert t\\u00e1mad\\u00e1sban \\u00e9s v\\u00e9dekez\\u00e9sben is sokkal hat\\u00e9konyabban k\\u00e9zilabd\\u00e1zott. Amikor a hazaiak szigor\\u00edtottak a v\\u00e9dekez\\u00e9s\\u00fck\\u00f6n, n\\u00e9mileg cs\\u00f6kkentett\\u00e9k a k\\u00fcl\\u00f6nbs\\u00e9get, de amikor engedt\\u00e9k gyorsan, lend\\u00fcletesen t\\u00e1madni ellenfel\\u00fcket, a bakonyiak rendre \\u00e9ltek a lehet\\u0151s\\u00e9ggel.\\n\\nA Bajnokok Lig\\u00e1ja-negyedd\\u00f6nt\\u0151s Veszpr\\u00e9m a sz\\u00fcnetben is magabiztosan vezetett (17-12), a m\\u00e1sodik f\\u00e9lid\\u0151 elej\\u00e9n pedig ism\\u00e9t lerohanta ellenfel\\u00e9t, \\u00e9s m\\u00e1r a meccs k\\u00e9tharmad\\u00e1n\\u00e1l eld\\u0151lt a tov\\u00e1bbjut\\u00e1s (24-15).\\n\\nA folytat\\u00e1sban szinte oszt\\u00e1lyk\\u00fcl\\u00f6nbs\\u00e9g alakult ki a csapatok k\\u00f6z\\u00f6tt, mert \\u00fagy t\\u0171nt, a h\\u00e1zigazd\\u00e1k feladt\\u00e1k a meccset, a bakonyiak viszont egyre-m\\u00e1sra l\\u0151tt\\u00e9k g\\u00f3ljaikat.\\n\\nA h\\u00e1tral\\u00e9v\\u0151 id\\u0151ben a p\\u00e1ly\\u00e1n t\\u00f6rt\\u00e9ntek jobban hasonl\\u00edtottak egy sz\\u00ednvonalas edz\\u0151m\\u00e9rk\\u0151z\\u00e9sre, mint egy t\\u00e9tmeccsre, mindk\\u00e9t oldalon p\\u00e1ly\\u00e1ra ker\\u00fcltek a cserej\\u00e1t\\u00e9kosok is.\\n\\nA c\\u00edmv\\u00e9d\\u0151 v\\u00e9g\\u00fcl 14 tal\\u00e1lattal gy\\u0151z\\u00f6tt, a h\\u00e1zigazd\\u00e1k pedig egyszer sem vezettek az eg\\u00e9sz m\\u00e9rk\\u0151z\\u00e9sen.\\n\\nDragan Pechmalbec \\u00e9s Ludovic Fabregas hat-hat g\\u00f3llal j\\u00e1rult hozz\\u00e1 a sikerhez, \\u00f6ten z\\u00e1rtak n\\u00e9gy tal\\u00e1lattal, a mez\\u0151ny legjobbj\\u00e1nak megv\\u00e1lasztott Palasics Krist\\u00f3f pedig 14 v\\u00e9d\\u00e9st mutatot be. A t\\u00faloldalon Mateo Maras, Sadou N'Tanzi \\u00e9s \\u00e9s Baptiste Damatrin \\u00f6t-\\u00f6t g\\u00f3lt l\\u0151tt, Bartucz L\\u00e1szl\\u00f3 h\\u00e9t, Sz\\u00e9kely M\\u00e1rton k\\u00e9t l\\u00f6v\\u00e9st v\\u00e9dett.\\n\\nMagyar Kupa, n\\u00e9gyes d\\u00f6nt\\u0151, Tatab\\u00e1nya, el\\u0151d\\u00f6nt\\u0151:\\n\\nOne Veszpr\\u00e9m HC-MOL Tatab\\u00e1nya KC 40-26 (17-12)\\n\\nl\\u00f6v\\u00e9sek/g\\u00f3lok: 54/40, illetve 46/26\\n\\ng\\u00f3lok h\\u00e9tm\\u00e9teresb\\u0151l: 5/3, illetve 4/4\\n\\nki\\u00e1ll\\u00edt\\u00e1sok: 6, illetve 4 perc\",\n          \"Mint ismert, az Origo egyik olvas\\u00f3ja \\u00f6r\\u00f6k\\u00edtette meg K\\u00e1r\\u00e1sz R\\u00f3bertet Budapest belv\\u00e1ros\\u00e1ban, amint l\\u00e1b\\u00e1n gipsszel \\u00e9s k\\u00e9t mank\\u00f3val \\u00fcld\\u00f6g\\u00e9lt. Port\\u00e1lunknak akkor a Duna TV tartalmak\\u00e9rt felel\\u0151s igazgat\\u00f3ja elmondta, hogy munkahely\\u00e9t\\u0151l mind\\u00f6ssze 20 m\\u00e9terre, egy k\\u00f6rforgalomban g\\u00e1zolta el egy teheraut\\u00f3.\\n\\n2010 \\u00f3ta motorozom \\u00e9s van egy nagy test\\u0171, 400 k\\u00f6bcentis robog\\u00f3m. 15 \\u00e9v alatt egyszer nem hib\\u00e1ztam, \\u00e9s most sem! Mentem dolgozni \\u00e9s a munkahelyemt\\u0151l 20 m\\u00e9terre, egy k\\u00f6rforgalomban egy teheraut\\u00f3 bel\\u00e9m hajtott\\n\\n\\u2013 mes\\u00e9lt a kor\\u00e1bbi m\\u0171sorvezet\\u0151 a megd\\u00f6bbent\\u0151 esetr\\u0151l. Mint kider\\u00fclt, a teheraut\\u00f3s m\\u00e9g csak nem is figyelmetlen volt, hanem rosszul m\\u00e9rte fel a helyzetet.\\n\\nOlvas\\u00f3nk vette \\u00e9szre K\\u00e1r\\u00e1sz R\\u00f3bertet Budapest belv\\u00e1ros\\u00e1ban, amint l\\u00e1b\\u00e1n gipsszel \\u00e9s k\\u00e9t mank\\u00f3val \\u00fcld\\u00f6g\\u00e9lt\\n\\nFot\\u00f3: Olvas\\u00f3i felv\\u00e9tel\\n\\nNem \\u00e9n voltam a hib\\u00e1s, \\u00e9n m\\u00e1r a k\\u00f6rforgalomban voltam, amikor a teheraut\\u00f3 bej\\u00f6tt \\u00e9s nekem hajtott. \\u00c9rdekes volt az elk\\u00f6vet\\u0151 reag\\u00e1l\\u00e1sa, ugyanis azt mondta, hogy \\u0151 \\u00fagy gondolta, hogy mi elf\\u00e9r\\u00fcnk egym\\u00e1s mellett a k\\u00f6rforgalomban \\u00e9s \\u0151 \\u00fagy l\\u00e1tta, hogy \\u00e9n a bels\\u0151 s\\u00e1vban megyek, ami az\\u00e9rt \\u00e9rdekes, mert abban a k\\u00f6rforgalomban csak egy s\\u00e1v van. Szerencs\\u00e9re nem is volt k\\u00e9rd\\u00e9s, hogy ki okozta a balesetet, t\\u00e9rfigyel\\u0151 kamer\\u00e1k r\\u00f6gz\\u00edtett\\u00e9k a g\\u00e1zol\\u00e1st. Kicsit haragszom is a sof\\u0151rre, mert nem arr\\u00f3l volt sz\\u00f3, hogy nem figyelt, csak hogy azt gondolta, hogy majd j\\u00f3 lesz \\u00edgy is\\n\\n\\u2013 mondta K\\u00e1r\\u00e1sz R\\u00f3bert.\\n\\nHozz\\u00e1tette, hogy b\\u00e1r el van keseredve, de tudja: a J\\u00f3isten vele volt, hiszen ak\\u00e1r le is b\\u00e9nulhatott volna, mert a teheraut\\u00f3 nem a l\\u00e1b\\u00e1t, hanem a motort tal\\u00e1lta el.\\n\\nLapunknak el\\u00e1rulta, hogy egy h\\u00e9t m\\u00falva lev\\u00e1gj\\u00e1k a l\\u00e1b\\u00e1r\\u00f3l a gipszet, mely a mai napon meg is t\\u00f6rt\\u00e9nt.\\n\\nV\\u00e1ltoz\\u00e1s a motorbaleset \\u00f3ta: a fekv\\u0151gipszet lev\\u00e1gta a l\\u00e1bamr\\u00f3l a traumatol\\u00f3gus, hogy a gy\\u00f3gyul\\u00e1s \\u00edgy \\u2013 gipsz n\\u00e9lk\\u00fcl \\u2013 gyorsabb lesz! Mondjuk f\\u00e1jdalmas, de musz\\u00e1j terhelni. A s\\u00e1nt\\u00edt\\u00e1s \\u00e9s a k\\u00f6ny\\u00f6kmank\\u00f3 teh\\u00e1t egy ideig marad\\n\\n\\u2013 \\u00edrta friss bejegyz\\u00e9s\\u00e9ben a k\\u00f6z\\u00f6ss\\u00e9gi oldal\\u00e1n.\",\n          \"Sallai Roland csapata, a Galatasaray szerd\\u00e1n Victor Osimhen dupl\\u00e1j\\u00e1val 2\\u20131-re legy\\u0151zte a Fenerbahc\\u00e9t a T\\u00f6r\\u00f6k Kupa negyedd\\u00f6nt\\u0151j\\u00e9ben. A v\\u00e9gig fesz\\u00fclt tal\\u00e1lkoz\\u00f3n a j\\u00e1t\\u00e9kvezet\\u0151 \\u00f6t piros lapot is kiosztott, k\\u00f6zt\\u00fck Jos\\u00e9 Mourinh\\u00f3nak, aki a lef\\u00faj\\u00e1s ut\\u00e1n d\\u00fch\\u00e9ben megcsavarta az ellenf\\u00e9l edz\\u0151j\\u00e9nek, Okan Buruknak az orr\\u00e1t.\\n\\nViszonylag olcs\\u00f3n meg\\u00faszta az ellenf\\u00e9l edz\\u0151j\\u00e9nek inzult\\u00e1l\\u00e1s\\u00e1t Jos\\u00e9 Mourinho\\n\\nFot\\u00f3: SERHAT CAGDAS / ANADOLU\\n\\nA t\\u00f6r\\u00f6k sz\\u00f6vets\\u00e9g fegyelmi bizotts\\u00e1ga agresszi\\u00f3nak min\\u0151s\\u00edtette a portug\\u00e1l tr\\u00e9ner cselekedet\\u00e9t, amit alapesetben \\u00f6t-t\\u00edz m\\u00e9rk\\u0151z\\u00e9sre sz\\u00f3l\\u00f3 eltilt\\u00e1st vonhat maga ut\\u00e1n, \\u00e1m a d\\u00f6nt\\u00e9shoz\\u00f3k \\u00fagy \\u00edt\\u00e9lt\\u00e9k meg, hogy Buruk provok\\u00e1lta koll\\u00e9g\\u00e1j\\u00e1t az incidens el\\u0151tt, ez\\u00e9rt Mourinho viszonylag enyhe b\\u00fcntet\\u00e9ssel meg\\u00faszta.\\n\\nA Fenerbahc\\u00e9t tavaly j\\u00fanius \\u00f3ta ir\\u00e1ny\\u00edt\\u00f3 Mourinh\\u00f3t nem el\\u0151sz\\u00f6r b\\u00fcntette meg a t\\u00f6r\\u00f6k sz\\u00f6vets\\u00e9g, febru\\u00e1rban n\\u00e9gy meccsre eltiltott\\u00e1k, valamint 42 ezer eur\\u00f3s p\\u00e9nzb\\u00edrs\\u00e1g megfizet\\u00e9s\\u00e9re is k\\u00f6telezt\\u00e9k, miut\\u00e1n ugyancsak a Galatasaray elleni rangad\\u00f3n \\u00e9lesen kritiz\\u00e1lta a t\\u00f6r\\u00f6k j\\u00e1t\\u00e9kvezet\\u0151k sz\\u00ednvonal\\u00e1t,\\n\\nA Galatasaray j\\u00e1t\\u00e9kosai, Kerem Demirbay \\u00e9s Alper Yilmaz, illetve a Fenerbahce brazil k\\u00f6z\\u00e9pp\\u00e1ly\\u00e1sa, Fred Mourinh\\u00f3hoz hasonl\\u00f3an h\\u00e1rom meccses eltilt\\u00e1st kapott. Ugyanakkor Mert Hakannak csak egy m\\u00e9rk\\u0151z\\u00e9st kell kihagynia.\\n\\nKapcsol\\u00f3d\\u00f3 cikkek:\"\n        ],\n        \"semantic_type\": \"\",\n        \"description\": \"\"\n      }\n    },\n    {\n      \"column\": \"date\",\n      \"properties\": {\n        \"dtype\": \"category\",\n        \"num_unique_values\": 803,\n        \"samples\": [\n          \"2025-03-26 17:29:06+01:00\",\n          \"2025-03-31 14:32:30+02:00\",\n          \"2025-03-25 18:00:00+01:00\"\n        ],\n        \"semantic_type\": \"\",\n        \"description\": \"\"\n      }\n    },\n    {\n      \"column\": \"label\",\n      \"properties\": {\n        \"dtype\": \"category\",\n        \"num_unique_values\": 3,\n        \"samples\": [\n          \"neutral\",\n          \"telex\",\n          \"origo\"\n        ],\n        \"semantic_type\": \"\",\n        \"description\": \"\"\n      }\n    }\n  ]\n}"
            }
          },
          "metadata": {},
          "execution_count": 27
        }
      ]
    },
    {
      "cell_type": "code",
      "source": [
        "origo = pd.read_csv('Adathalmaz/origo_news.csv')\n",
        "origo['target'] = 0\n",
        "telex = pd.read_csv('Adathalmaz/telex_news.csv')\n",
        "telex['target'] = 1\n",
        "neutral = pd.read_csv('Adathalmaz/neutral_news.csv')\n",
        "neutral['target'] = 2"
      ],
      "metadata": {
        "id": "zojoNpqpE3xl"
      },
      "execution_count": 29,
      "outputs": []
    },
    {
      "cell_type": "markdown",
      "source": [
        "Létrehozok egy olyan adathalmazt is, ahol csak a nyers szöveg van és a címke"
      ],
      "metadata": {
        "id": "AI1NQ5u7GuQp"
      }
    },
    {
      "cell_type": "code",
      "source": [
        "allnews = pd.concat([origo, telex, neutral])\n",
        "allnews = allnews[['target','text']]\n",
        "allnews = allnews.dropna()\n",
        "allnews.to_csv(\"Adathalmaz/allnews.csv\", index=False)\n"
      ],
      "metadata": {
        "id": "t_HQJ-y2E7Ze"
      },
      "execution_count": 30,
      "outputs": []
    },
    {
      "cell_type": "code",
      "source": [
        "from zipfile import ZipFile\n",
        "import os\n",
        "\n",
        "file_path = []\n",
        "\n",
        "for root, directories, files in os.walk('Adathalmaz'):\n",
        "    for filename in files:\n",
        "        file_path.append(os.path.join(root, filename))\n",
        "\n",
        "with ZipFile('Adathalmaz.zip','w') as zip:\n",
        "   # writing each file one by one\n",
        "   for file in file_path:\n",
        "       zip.write(file)\n",
        "\n"
      ],
      "metadata": {
        "id": "tEIjF2EDXMgA"
      },
      "execution_count": 32,
      "outputs": []
    }
  ]
}